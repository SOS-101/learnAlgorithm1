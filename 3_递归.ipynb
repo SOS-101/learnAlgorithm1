{
 "cells": [
  {
   "cell_type": "markdown",
   "metadata": {},
   "source": [
    "伪代码\n",
    "\n",
    "# 递归\n",
    "Leigh Caldwell在Stack Overflow上说的一句话：“如果使用循环，程序的性能可能更高；如果使用递归，程序可能更容易理解。如何选择要看什么对你来说更重要。”\n",
    "\n",
    "---\n",
    "# 基线条件和递归条件\n",
    "编写递归函数时，必须告诉它何时停止递归。\n",
    "\n",
    "每个递归函数都有两部分：基线条件（base case）和递归条件（recursive case）。递归条件指的是函数调用自己，而基线条件则指的是函数不再调用自己，从而避免形成无限循环。\n",
    "\n",
    "---\n",
    "# 栈\n",
    "调用栈  call stack  \n",
    "\n",
    "## 调用栈\n",
    "## 递归调用栈\n",
    "当递归调用栈占用太多内存，可：\n",
    "- 转而使用循环\n",
    "- 使用尾递归\n",
    "\n",
    "---\n",
    "# 小结\n",
    "- 递归指的是调用自己的函数。\n",
    "- 每个递归函数都有两个条件：基线条件和递归条件。\n",
    "- 栈有两种操作：压入和弹出。\n",
    "- 所有函数调用都进入调用栈。\n",
    "- 调用栈可能很长，这将占用大量的内存。\n",
    "\n",
    "---"
   ]
  }
 ],
 "metadata": {
  "interpreter": {
   "hash": "07efdcd4b820c98a756949507a4d29d7862823915ec7477944641bea022f4f62"
  },
  "kernelspec": {
   "display_name": "Python 3.8.8 64-bit ('base': conda)",
   "name": "python3"
  },
  "language_info": {
   "name": "python",
   "version": "3.8.8"
  },
  "orig_nbformat": 4
 },
 "nbformat": 4,
 "nbformat_minor": 2
}
