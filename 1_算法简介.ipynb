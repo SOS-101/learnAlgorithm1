{
 "cells": [
  {
   "cell_type": "markdown",
   "metadata": {},
   "source": [
    "# 引言\n",
    "## 性能方面\n",
    "## 问题解决技巧\n",
    "---"
   ]
  },
  {
   "cell_type": "markdown",
   "metadata": {},
   "source": [
    "# 二分查找\n",
    "简单查找\n",
    "\n",
    "二分查找\n",
    "输入：有序列表\n",
    "\n",
    "## 更佳的查找方式\n",
    "简单查找n步，二分查找 $log_{2}{n}$步\n",
    "\n"
   ]
  },
  {
   "cell_type": "code",
   "execution_count": null,
   "metadata": {},
   "outputs": [],
   "source": [
    "def binary_search(list,item):\n",
    "    low = 0\n",
    "    high = len(list) - 1\n",
    "\n",
    "    while low <= high:\n",
    "        mid = (low + high) // 2\n",
    "        guess = list[mid]\n",
    "        if guess == item:\n",
    "            return mid\n",
    "        if guess > item:\n",
    "            high = mid - 1\n",
    "        else:\n",
    "            low = mid + 1\n",
    "    return None\n",
    "my_list = [1,3,5,7,9]\n",
    "\n",
    "print(binary_search(my_list,1))\n",
    "print(binary_search(my_list,-1))"
   ]
  },
  {
   "cell_type": "markdown",
   "metadata": {},
   "source": [
    "## 运行时间\n",
    "---"
   ]
  },
  {
   "cell_type": "markdown",
   "metadata": {},
   "source": [
    "# 大O表示法\n",
    "## 算法的运行时间以不同的速度增加\n",
    "$O(n)$\n",
    "\n",
    "## 理解不同的大O运行时间\n",
    "## 大O表示法指出了最糟情况下的运行时间\n",
    "## 一些常见的大O运行时间\n",
    "- O(log n)，也叫对数时间，这样的算法包括二分查找。\n",
    "- O(n)，也叫线性时间，这样的算法包括简单查找。\n",
    "- O($n ＊ log n$)，这样的算法包括快速排序——一种速度较快的排序算法。\n",
    "- O($n^2$)，这样的算法包括选择排序——一种速度较慢的排序算法。\n",
    "- O($n!$ )，这样的算法包括旅行商问题的解决方案——一种非常慢的算法。\n",
    "\n",
    "目前应有的启示：\n",
    "- 算法的速度指的并非时间，而是操作数的增速。\n",
    "- 谈论算法的速度时，我们说的是随着输入的增加，其运行时间将以什么样的速度增加。\n",
    "- 算法的运行时间用大O表示法表示。\n",
    "- O(log n)比O(n)快，当需要搜索的元素越多时，前者比后者快得越多。\n",
    "\n",
    "## 旅行商问题\n",
    "有一位旅行商。他需要前往5个城市。\n",
    "\n",
    "这位旅行商（姑且称之为Opus吧）要前往这5个城市，同时要确保旅程最短。为此，可考虑前往这些城市的各种可能顺序。\n",
    "\n",
    "对于每种顺序，他都计算总旅程，再挑选出旅程最短的路线。5个城市有120种不同的排列方式。因此，在涉及5个城市时，解决这个问题需要执行120次操作。涉及6个城市时，需要执行720次操作（有720种不同的排列方式）。涉及7个城市时，需要执行5040次操作！\n",
    "\n",
    "推而广之，涉及n个城市时，需要执行n!（n的阶乘）次操作才能计算出结果。因此运行时间为O(n! )，即阶乘时间。除非涉及的城市数很少，否则需要执行非常多的操作。如果涉及的城市数超过100，根本就不能在合理的时间内计算出结果——等你计算出结果，太阳都没了。\n",
    "\n",
    "---"
   ]
  },
  {
   "cell_type": "markdown",
   "metadata": {},
   "source": [
    "# 小结\n",
    "- 二分查找的速度比简单查找快得多。\n",
    "- O(log n)比O(n)快。需要搜索的元素越多，前者比后者就快得越多。\n",
    "- 算法运行时间并不以秒为单位。\n",
    "- 算法运行时间是从其增速的角度度量的。\n",
    "- 算法运行时间用大O表示法表示。\n",
    "\n",
    "---"
   ]
  }
 ],
 "metadata": {
  "interpreter": {
   "hash": "07efdcd4b820c98a756949507a4d29d7862823915ec7477944641bea022f4f62"
  },
  "kernelspec": {
   "display_name": "Python 3.8.8 64-bit ('base': conda)",
   "name": "python3"
  },
  "language_info": {
   "codemirror_mode": {
    "name": "ipython",
    "version": 3
   },
   "file_extension": ".py",
   "mimetype": "text/x-python",
   "name": "python",
   "nbconvert_exporter": "python",
   "pygments_lexer": "ipython3",
   "version": "3.8.8"
  },
  "orig_nbformat": 4
 },
 "nbformat": 4,
 "nbformat_minor": 2
}
