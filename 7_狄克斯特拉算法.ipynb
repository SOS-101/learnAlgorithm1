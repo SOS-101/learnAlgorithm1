{
 "cells": [
  {
   "cell_type": "markdown",
   "metadata": {},
   "source": [
    "# 使用狄克斯特拉算法\n",
    "狄克斯特拉算法包含4个步骤：\n",
    "- (1) 找出“最便宜”的节点，即可在最短时间内到达的节点。\n",
    "- (2) 更新该节点的邻居的开销，其含义将稍后介\n",
    "- (3) 重复这个过程，直到对图中的每个节点都这样做\n",
    "- (4) 计算最终路径。\n",
    "\n",
    "---\n",
    "# 术语\n",
    "权重（weight）\n",
    "\n",
    "带权重的图称为加权图（weighted graph），不带权重的图称为非加权图（unweighted graph）。\n",
    "\n",
    "图还可能有环\n",
    "\n",
    "狄克斯特拉算法只适用于有向无环图（directed acyclic graph, DAG）。\n",
    "\n",
    "在无向图中，每条边都是一个环。\n",
    "\n",
    "---\n",
    "# [换钢琴](https://weread.qq.com/web/reader/fbf32b80715c0184fbff41fkc0c320a0232c0c7c76d365a)\n",
    "\n",
    "---\n",
    "# 负权边\n",
    "不能将狄克斯特拉算法用于包含负权边的图。在包含负权边的图中，要找出最短路径，可使用另一种算法——贝尔曼-福德算法（Bellman-Ford algorithm）\n",
    "\n",
    "---\n",
    "# 实现\n"
   ]
  },
  {
   "cell_type": "code",
   "execution_count": 2,
   "metadata": {},
   "outputs": [
    {
     "name": "stdout",
     "output_type": "stream",
     "text": [
      "6\n"
     ]
    }
   ],
   "source": [
    "def find_lowest_cost_node(costs):\n",
    "    lowest_cost = float(\"inf\")\n",
    "    lowest_cost_node = None\n",
    "    for node in costs:\n",
    "        cost = costs[node]\n",
    "        if cost < lowest_cost and node not in processed:\n",
    "            lowest_cost = cost\n",
    "            lowest_cost_node = node\n",
    "    return lowest_cost_node\n",
    "\n",
    "graph = {}\n",
    "graph[\"start\"] = {}\n",
    "graph[\"start\"]['a'] = 6\n",
    "graph[\"start\"]['b'] = 2\n",
    "\n",
    "graph['a'] = {}\n",
    "graph[\"a\"][\"fin\"] = 1\n",
    "\n",
    "graph[\"b\"] = {}\n",
    "graph[\"b\"][\"a\"] = 3\n",
    "graph[\"b\"][\"fin\"] = 5\n",
    "\n",
    "graph['fin'] = {}\n",
    "\n",
    "infinity = float(\"inf\")\n",
    "costs = {}\n",
    "costs[\"a\"] = 6\n",
    "costs['b'] = 2\n",
    "costs[\"fin\"] = infinity\n",
    "\n",
    "parents = {}\n",
    "parents['a'] = 'start'\n",
    "parents[\"b\"] = \"start\"\n",
    "parents[\"fin\"] = None\n",
    "\n",
    "processed = []\n",
    "\n",
    "node = find_lowest_cost_node(costs)\n",
    "while node is not None:\n",
    "    i = 1\n",
    "    cost = costs[node]\n",
    "    neighbors = graph[node]\n",
    "    for n in neighbors.keys():\n",
    "        new_cost = cost + neighbors[n]\n",
    "        if costs[n] > new_cost:\n",
    "            costs[n] = new_cost\n",
    "            parents[n] = node\n",
    "    processed.append(node)\n",
    "    node = find_lowest_cost_node(costs)\n",
    "    # i += 1\n",
    "    # print(i)\n",
    "print(costs[\"fin\"])"
   ]
  },
  {
   "cell_type": "markdown",
   "metadata": {},
   "source": [
    "\n",
    "---\n",
    "# 小结\n",
    "1. 广度优先搜索用于在非加权图中查找最短路径。\n",
    "2. 狄克斯特拉算法用于在加权图中查找最短路径。\n",
    "3. 仅当权重为正时狄克斯特拉算法才管用。\n",
    "4. 如果图中包含负权边，请使用贝尔曼-福德算法。\n",
    "\n"
   ]
  }
 ],
 "metadata": {
  "interpreter": {
   "hash": "07efdcd4b820c98a756949507a4d29d7862823915ec7477944641bea022f4f62"
  },
  "kernelspec": {
   "display_name": "Python 3.8.8 64-bit ('base': conda)",
   "language": "python",
   "name": "python3"
  },
  "language_info": {
   "codemirror_mode": {
    "name": "ipython",
    "version": 3
   },
   "file_extension": ".py",
   "mimetype": "text/x-python",
   "name": "python",
   "nbconvert_exporter": "python",
   "pygments_lexer": "ipython3",
   "version": "3.8.8"
  },
  "orig_nbformat": 4
 },
 "nbformat": 4,
 "nbformat_minor": 2
}
