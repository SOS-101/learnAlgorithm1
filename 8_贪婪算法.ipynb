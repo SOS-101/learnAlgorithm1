{
 "cells": [
  {
   "cell_type": "markdown",
   "metadata": {},
   "source": [
    "# 教室调度问题\n",
    "[教室调度问题](https://weread.qq.com/web/reader/fbf32b80715c0184fbff41fkb5332110237b53b3a3d68d2)\n",
    "\n",
    "贪婪算法很简单：每步都采取最优的做法。用专业术语说，就是你每步都选择局部最优解，最终得到的就是全局最优解。\n",
    "\n",
    "显然，贪婪算法并非在任何情况下都行之有效，但它易于实现！\n",
    "\n",
    "---\n",
    "# 背包问题\n",
    "[背包问题](https://weread.qq.com/web/reader/fbf32b80715c0184fbff41fk9f6326602389f61408e3715)\n",
    "\n",
    "---\n",
    "# 集合覆盖问题\n",
    "\n",
    "[集合覆盖问题](https://weread.qq.com/web/reader/fbf32b80715c0184fbff41fk72b327f023972b32a1f7e2d)\n",
    "\n"
   ]
  },
  {
   "cell_type": "code",
   "execution_count": null,
   "metadata": {},
   "outputs": [],
   "source": [
    "states_needed = set(['mt',\"wa\",'or',\"id\",'nv','ut',\"ca\",'az'])\n",
    "\n",
    "stations = {}\n",
    "stations[\"kone\"] = set([\"id\",'nv',\"ut\"])\n",
    "stations['ktwo'] = set(['wa',\"id\",\"mt\"])\n",
    "stations[\"kthree\"] = set(['or',\"nv\",\"ca\"])\n",
    "stations[\"kfour\"] = set([\"nv\",\"ut\"])\n",
    "stations[\"kfive\"] = set([\"ca\",\"az\"])\n",
    "\n",
    "final_stations = set()\n",
    "while states_needed:\n",
    "    best_station = None\n",
    "    states_covered = set()\n",
    "    for station, states in stations.items():\n",
    "        covered = states_needed & states\n",
    "        if len(covered) > len(states_covered):\n",
    "            best_station = station\n",
    "            states_covered = covered\n",
    "    states_needed -= states_covered\n",
    "    final_stations.add(best_station)\n",
    "print(final_stations)"
   ]
  },
  {
   "cell_type": "markdown",
   "metadata": {},
   "source": [
    "\n",
    "---\n",
    "# NP完全问题\n",
    "## 旅行商问题详解\n",
    "\n",
    "近似求解\n",
    "\n",
    "## 如何识别NP完全问题\n",
    "\n",
    "---\n",
    "# 小结\n",
    "1. 贪婪算法寻找局部最优解，企图以这种方式获得全局最优解。\n",
    "2. 对于NP完全问题，还没有找到快速解决方案。\n",
    "3. 面临NP完全问题时，最佳的做法是使用近似算法。\n",
    "4. 贪婪算法易于实现、运行速度快，是不错的近似算法。\n"
   ]
  }
 ],
 "metadata": {
  "interpreter": {
   "hash": "07efdcd4b820c98a756949507a4d29d7862823915ec7477944641bea022f4f62"
  },
  "kernelspec": {
   "display_name": "Python 3.8.8 64-bit ('base': conda)",
   "language": "python",
   "name": "python3"
  },
  "language_info": {
   "codemirror_mode": {
    "name": "ipython",
    "version": 3
   },
   "file_extension": ".py",
   "mimetype": "text/x-python",
   "name": "python",
   "nbconvert_exporter": "python",
   "pygments_lexer": "ipython3",
   "version": "3.8.8"
  },
  "orig_nbformat": 4
 },
 "nbformat": 4,
 "nbformat_minor": 2
}
