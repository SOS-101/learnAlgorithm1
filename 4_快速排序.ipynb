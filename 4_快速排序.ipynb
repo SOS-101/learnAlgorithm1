{
 "cells": [
  {
   "cell_type": "markdown",
   "metadata": {},
   "source": [
    "# 分而治之\n",
    "D&C的工作原理：\n",
    "(1) 找出简单的基线条件；\n",
    "(2) 确定如何缩小问题的规模，使其符合基线条件。\n",
    "D&C并非可用于解决问题的算法，而是一种解决问题的思路。\n",
    "\n",
    "函数式编程\n",
    "\n",
    "---\n",
    "# 快速排序\n",
    "步骤如下：\n",
    "- (1) 选择基准值。\n",
    "- (2) 将数组分成两个子数组：小于基准值的元素和大于基准值的元素。\n",
    "- (3) 对这两个子数组进行快速排序。\n",
    "\n",
    "归纳证明\n",
    "\n",
    "它分两步：基线条件和归纳条件。\n",
    "\n"
   ]
  },
  {
   "cell_type": "code",
   "execution_count": null,
   "metadata": {},
   "outputs": [],
   "source": [
    "def quicksort(array):\n",
    "    if len(array) < 2:\n",
    "        return array\n",
    "    else:\n",
    "        pivot = array[0]\n",
    "        less = [i for i in array[1:] if i <= pivot]\n",
    "        greater = [i for i in array[1:] if i > pivot]\n",
    "\n",
    "        return quicksort(less) + [pivot] + quicksort(greater)\n",
    "\n",
    "array = [3,8,5,2,9]\n",
    "\n",
    "print(quicksort(array))"
   ]
  },
  {
   "cell_type": "markdown",
   "metadata": {},
   "source": [
    "\n",
    "---\n",
    "# 再谈大O表示法\n",
    "快速排序的独特之处在于，其速度取决于选择的基准值。\n",
    "\n",
    "合并排序  O(n log n)  \n",
    "\n",
    "## 比较合并排序和快速排序\n",
    "时间常量\n",
    "\n",
    "\n",
    "## 平均情况和最糟情况\n",
    "---\n",
    "# 小结\n",
    "- D&C将问题逐步分解。使用D&C处理列表时，基线条件很可能是空数组或只包含一个元素的数组。\n",
    "- 实现快速排序时，请随机地选择用作基准值的元素。快速排序的平均运行时间为O(n log n)。\n",
    "- 大O表示法中的常量有时候事关重大，这就是快速排序比合并排序快的原因所在。\n",
    "- 比较简单查找和二分查找时，常量几乎无关紧要，因为列表很长时，O(log n)的速度比O(n)快得多。\n",
    "\n",
    "---"
   ]
  }
 ],
 "metadata": {
  "interpreter": {
   "hash": "07efdcd4b820c98a756949507a4d29d7862823915ec7477944641bea022f4f62"
  },
  "kernelspec": {
   "display_name": "Python 3.8.8 64-bit ('base': conda)",
   "name": "python3"
  },
  "language_info": {
   "codemirror_mode": {
    "name": "ipython",
    "version": 3
   },
   "file_extension": ".py",
   "mimetype": "text/x-python",
   "name": "python",
   "nbconvert_exporter": "python",
   "pygments_lexer": "ipython3",
   "version": "3.8.8"
  },
  "orig_nbformat": 4
 },
 "nbformat": 4,
 "nbformat_minor": 2
}
