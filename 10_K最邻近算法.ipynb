{
 "cells": [
  {
   "cell_type": "markdown",
   "metadata": {},
   "source": [
    "# 橙子还是柚子\n",
    "---\n",
    "# 创建推荐系统\n",
    "\n",
    "## 特征抽取\n",
    "## 回归\n",
    "余弦相似度\n",
    "\n",
    "## 挑选合适的特征\n",
    "\n",
    "---\n",
    "# 机器学习简介\n",
    "## OCR\n",
    "OCR指的是光学字符识别（optical character recognition）\n",
    "\n",
    "## 创建垃圾邮件过滤器\n",
    "垃圾邮件过滤器使用一种简单算法——朴素贝叶斯分类器（Naive Bayesclassifier），你首先需要使用一些数据对这个分类器进行训练。\n",
    "\n",
    "## 预测股票市场\n",
    "1. KNN用于分类和回归，需要考虑最近的邻居。\n",
    "2. 分类就是编组。\n",
    "3. 回归就是预测结果（如数字）。\n",
    "4. 特征抽取意味着将物品（如水果或用户）转换为一系列可比较的数字。\n",
    "5. 能否挑选合适的特征事关KNN算法的成败。\n",
    "\n"
   ]
  }
 ],
 "metadata": {
  "language_info": {
   "name": "python"
  },
  "orig_nbformat": 4
 },
 "nbformat": 4,
 "nbformat_minor": 2
}
