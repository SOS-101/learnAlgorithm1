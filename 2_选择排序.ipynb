{
 "cells": [
  {
   "cell_type": "markdown",
   "metadata": {},
   "source": [
    "# 内存的工作原理\n",
    "---"
   ]
  },
  {
   "cell_type": "markdown",
   "metadata": {},
   "source": [
    "# 数组和链表\n",
    "## 链表\n",
    "链表中的元素可存储在内存的任何地方。\n",
    "\n",
    "链表的每个元素都存储了下一个元素的地址，从而使一系列随机的内存地址串在一起。\n",
    "\n",
    "链表的优势在插入元素方面。\n",
    "## 数组\n",
    "数组与此不同：你知道其中每个元素的地址。\n",
    "\n",
    "## 术语\n",
    "元素的位置称为索引。\n",
    "\n",
    "## 在中间插入\n",
    "## 删除\n",
    "---"
   ]
  },
  {
   "cell_type": "markdown",
   "metadata": {},
   "source": [
    "# 选择排序\n"
   ]
  },
  {
   "cell_type": "code",
   "execution_count": null,
   "metadata": {},
   "outputs": [],
   "source": [
    "def findSmallest(arr):\n",
    "    smallest = arr[0]\n",
    "    smallest_index = 0\n",
    "    for i in range(1,len(arr)):\n",
    "        if arr[i] < smallest:\n",
    "            smallest = arr[i]\n",
    "            smallest_index = i\n",
    "    return smallest_index\n",
    "\n",
    "def selectionSort(arr):\n",
    "    newArr = []\n",
    "    for i in range(len(arr)):\n",
    "        smallest = findSmallest(arr)\n",
    "        newArr.append(arr.pop(smallest))\n",
    "    return newArr\n",
    "\n",
    "print(selectionSort([5,3,6,2,10]))"
   ]
  },
  {
   "cell_type": "markdown",
   "metadata": {},
   "source": [
    "\n",
    "---\n",
    "# 小结\n",
    "- 计算机内存犹如一大堆抽屉。\n",
    "- 需要存储多个元素时，可使用数组或链表。\n",
    "- 数组的元素都在一起。\n",
    "- 链表的元素是分开的，其中每个元素都存储了下一个元素的地址。\n",
    "- 数组的读取速度很快。\n",
    "- 链表的插入和删除速度很快。\n",
    "- 在同一个数组中，所有元素的类型都必须相同（都为int、double等）。\n",
    "\n",
    "---"
   ]
  }
 ],
 "metadata": {
  "interpreter": {
   "hash": "07efdcd4b820c98a756949507a4d29d7862823915ec7477944641bea022f4f62"
  },
  "kernelspec": {
   "display_name": "Python 3.8.8 64-bit ('base': conda)",
   "name": "python3"
  },
  "language_info": {
   "codemirror_mode": {
    "name": "ipython",
    "version": 3
   },
   "file_extension": ".py",
   "mimetype": "text/x-python",
   "name": "python",
   "nbconvert_exporter": "python",
   "pygments_lexer": "ipython3",
   "version": "3.8.8"
  },
  "orig_nbformat": 4
 },
 "nbformat": 4,
 "nbformat_minor": 2
}
